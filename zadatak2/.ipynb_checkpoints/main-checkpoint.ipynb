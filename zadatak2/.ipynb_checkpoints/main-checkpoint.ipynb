{
 "cells": [
  {
   "cell_type": "code",
   "execution_count": 7,
   "id": "d19d53e5-cde9-4e53-a2cb-f7257c4afac0",
   "metadata": {},
   "outputs": [],
   "source": [
    "import pandas as pd  "
   ]
  },
  {
   "cell_type": "markdown",
   "id": "0e37f570-4539-40ec-8d8f-97a85e50d736",
   "metadata": {},
   "source": [
    "Ucitavanje podataka"
   ]
  },
  {
   "cell_type": "code",
   "execution_count": 8,
   "id": "639397dd-621c-45e0-9b31-2c91361a6d73",
   "metadata": {},
   "outputs": [
    {
     "name": "stdout",
     "output_type": "stream",
     "text": [
      "   subject  condition  replication  leg  joint  time     angle\n",
      "0        1          1            1    1      1     0  4.682881\n",
      "1        1          1            1    1      1     1  5.073127\n",
      "2        1          1            1    1      1     2  5.229774\n",
      "3        1          1            1    1      1     3  5.083273\n",
      "4        1          1            1    1      1     4  4.652399\n"
     ]
    }
   ],
   "source": [
    "\n",
    "raw_data = pd.read_csv(\"../data/gait.csv\")  \n",
    "print(raw_data.head())  \n"
   ]
  },
  {
   "cell_type": "code",
   "execution_count": null,
   "id": "a992ff96-9928-412e-a53e-1c46301e4de8",
   "metadata": {},
   "outputs": [],
   "source": []
  }
 ],
 "metadata": {
  "kernelspec": {
   "display_name": "Python 3 (ipykernel)",
   "language": "python",
   "name": "python3"
  },
  "language_info": {
   "codemirror_mode": {
    "name": "ipython",
    "version": 3
   },
   "file_extension": ".py",
   "mimetype": "text/x-python",
   "name": "python",
   "nbconvert_exporter": "python",
   "pygments_lexer": "ipython3",
   "version": "3.10.12"
  }
 },
 "nbformat": 4,
 "nbformat_minor": 5
}
